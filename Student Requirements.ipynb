{
 "cells": [
  {
   "cell_type": "code",
   "execution_count": 2,
   "metadata": {},
   "outputs": [],
   "source": [
    "import numpy as np  # linear algebra\n",
    "import pandas as pd  # dad preprocessing\n",
    "import matplotlib.pyplot as plt  # data visualization\n",
    "import seaborn as sns  # data visualization"
   ]
  },
  {
   "cell_type": "code",
   "execution_count": 3,
   "metadata": {},
   "outputs": [],
   "source": [
    "df = pd.read_excel('response-excel.xlsx')"
   ]
  },
  {
   "cell_type": "code",
   "execution_count": 4,
   "metadata": {},
   "outputs": [
    {
     "data": {
      "text/plain": [
       "Index(['Timestamp', 'מהו גילך בשנים?', 'מה המגדר שלך?',\n",
       "       'איזה סוג משרה אתה מחפש?', 'באיזה תחום אתה מחפש עבודה?',\n",
       "       'מאיפה אתה מעדיף לעבוד?',\n",
       "       'האם יש לך ניסיון תעסוקתי קודם בתחום בו אתה מחפש עבודה?',\n",
       "       'האם יש לך הסמכות בינלאומיות בתחום בו אתה מחפש עבודה?',\n",
       "       'באילו אתרי חיפוש עבודה אתה משתמש בתדירות הגבוהה ביותר? בחר עד 3 פלטפורמות גיוס עיקריות',\n",
       "       'מהי ההשכלה שלך? גם אם הינך במהלך התואר אנא סמן את התשובה',\n",
       "       'האם אי פעם השתמשת בפלטפורמה ספציפית למחפשי עבודה עבור סטודנטים?',\n",
       "       'אילו דרכי התקשרות עם המגייס חשוב שיהיו בפלטפורמה לחיפוש עבודה? בחר עד 2 דרכי התקשרות עיקריים',\n",
       "       'האם אתה מבצע מעקב אחרי הגשות מועמדות למשרה?',\n",
       "       'אילו פיצרים חשובים לך במערכת באופן כללי? בחר עד 3 פיצ'רים עיקריים',\n",
       "       'אילו חלקים חשובים לך שיופיעו בפרופיל המשתמש שלך? בחר עד 3 חלקים עיקרייים',\n",
       "       'לפי אילו פרמטרים היית רוצה לבצע חיפוש למשרה? בחר עד 3 פרמטרים עיקריים',\n",
       "       'מ-1 עד 5, כמה אתה מסכים עם המשפט הבא: \"ביצוע ראיון ראשוני באופן  דיגיטלי מקצר את תהליך הגיוס ובתור סטודנט הייתי רוצה שיהיה כזאת יכולת לפלטפורמת גיוס\"',\n",
       "       'כמה זמן היית מוכן להשקיע בביצוע ראיון דיגיטלי ראשוני בדקות?',\n",
       "       'מה חשוב לך שיהיה במשוב חוזר להגשת המועמדות שלך במצב בו מועמדתך נפסלה? בחר עד 3 חלקים עיקריים',\n",
       "       'Unnamed: 19'],\n",
       "      dtype='object')"
      ]
     },
     "execution_count": 4,
     "metadata": {},
     "output_type": "execute_result"
    }
   ],
   "source": [
    "df.columns"
   ]
  },
  {
   "cell_type": "code",
   "execution_count": 15,
   "metadata": {},
   "outputs": [],
   "source": [
    "df_reqs = df[[\"אילו דרכי התקשרות עם המגייס חשוב שיהיו בפלטפורמה לחיפוש עבודה? בחר עד 2 דרכי התקשרות עיקריים\",\n",
    "             \"האם אתה מבצע מעקב אחרי הגשות מועמדות למשרה?\",\n",
    "             \"אילו פיצרים חשובים לך במערכת באופן כללי? בחר עד 3 פיצ'רים עיקריים\",\n",
    "             \"אילו חלקים חשובים לך שיופיעו בפרופיל המשתמש שלך? בחר עד 3 חלקים עיקרייים\",\n",
    "             \"לפי אילו פרמטרים היית רוצה לבצע חיפוש למשרה? בחר עד 3 פרמטרים עיקריים\",\n",
    "             'מ-1 עד 5, כמה אתה מסכים עם המשפט הבא: \"ביצוע ראיון ראשוני באופן  דיגיטלי מקצר את תהליך הגיוס ובתור סטודנט הייתי רוצה שיהיה כזאת יכולת לפלטפורמת גיוס\"',\n",
    "             'כמה זמן היית מוכן להשקיע בביצוע ראיון דיגיטלי ראשוני בדקות?',\n",
    "             'מה חשוב לך שיהיה במשוב חוזר להגשת המועמדות שלך במצב בו מועמדתך נפסלה? בחר עד 3 חלקים עיקריים',]]\n",
    "\n",
    "df_reqs_1_ans = df_reqs[[\"האם אתה מבצע מעקב אחרי הגשות מועמדות למשרה?\",\n",
    "                         'מ-1 עד 5, כמה אתה מסכים עם המשפט הבא: \"ביצוע ראיון ראשוני באופן  דיגיטלי מקצר את תהליך הגיוס ובתור סטודנט הייתי רוצה שיהיה כזאת יכולת לפלטפורמת גיוס\"',\n",
    "                         'כמה זמן היית מוכן להשקיע בביצוע ראיון דיגיטלי ראשוני בדקות?']]\n",
    "\n",
    "df_reqs_multiple_ans = df_reqs[[\"אילו דרכי התקשרות עם המגייס חשוב שיהיו בפלטפורמה לחיפוש עבודה? בחר עד 2 דרכי התקשרות עיקריים\",\n",
    "                                \"אילו פיצרים חשובים לך במערכת באופן כללי? בחר עד 3 פיצ'רים עיקריים\",\n",
    "                                \"אילו חלקים חשובים לך שיופיעו בפרופיל המשתמש שלך? בחר עד 3 חלקים עיקרייים\",\n",
    "                                \"לפי אילו פרמטרים היית רוצה לבצע חיפוש למשרה? בחר עד 3 פרמטרים עיקריים\",\n",
    "                                'מה חשוב לך שיהיה במשוב חוזר להגשת המועמדות שלך במצב בו מועמדתך נפסלה? בחר עד 3 חלקים עיקריים']]"
   ]
  },
  {
   "cell_type": "code",
   "execution_count": 53,
   "metadata": {},
   "outputs": [
    {
     "name": "stdout",
     "output_type": "stream",
     "text": [
      "האם אתה מבצע מעקב אחרי הגשות מועמדות למשרה?\n"
     ]
    },
    {
     "data": {
      "text/html": [
       "<div>\n",
       "<style scoped>\n",
       "    .dataframe tbody tr th:only-of-type {\n",
       "        vertical-align: middle;\n",
       "    }\n",
       "\n",
       "    .dataframe tbody tr th {\n",
       "        vertical-align: top;\n",
       "    }\n",
       "\n",
       "    .dataframe thead th {\n",
       "        text-align: right;\n",
       "    }\n",
       "</style>\n",
       "<table border=\"1\" class=\"dataframe\">\n",
       "  <thead>\n",
       "    <tr style=\"text-align: right;\">\n",
       "      <th></th>\n",
       "      <th>Count</th>\n",
       "      <th>Percentage</th>\n",
       "    </tr>\n",
       "  </thead>\n",
       "  <tbody>\n",
       "    <tr>\n",
       "      <th>לא</th>\n",
       "      <td>56</td>\n",
       "      <td>62.222222</td>\n",
       "    </tr>\n",
       "    <tr>\n",
       "      <th>כן</th>\n",
       "      <td>34</td>\n",
       "      <td>37.777778</td>\n",
       "    </tr>\n",
       "  </tbody>\n",
       "</table>\n",
       "</div>"
      ],
      "text/plain": [
       "    Count  Percentage\n",
       "לא     56   62.222222\n",
       "כן     34   37.777778"
      ]
     },
     "execution_count": 53,
     "metadata": {},
     "output_type": "execute_result"
    }
   ],
   "source": [
    "col_name = \"האם אתה מבצע מעקב אחרי הגשות מועמדות למשרה?\"\n",
    "col_data = df_reqs_1_ans[col_name]\n",
    "counts = col_data.value_counts()\n",
    "percentages = col_data.value_counts(normalize=True) * 100\n",
    "summary_df = pd.concat([counts, percentages], axis=1, keys=[\"Count\", \"Percentage\"])\n",
    "print(col_name)\n",
    "summary_df"
   ]
  },
  {
   "cell_type": "code",
   "execution_count": 51,
   "metadata": {},
   "outputs": [
    {
     "name": "stdout",
     "output_type": "stream",
     "text": [
      "מ-1 עד 5, כמה אתה מסכים עם המשפט הבא: \"ביצוע ראיון ראשוני באופן  דיגיטלי מקצר את תהליך הגיוס ובתור סטודנט הייתי רוצה שיהיה כזאת יכולת לפלטפורמת גיוס\"\n"
     ]
    },
    {
     "data": {
      "text/html": [
       "<div>\n",
       "<style scoped>\n",
       "    .dataframe tbody tr th:only-of-type {\n",
       "        vertical-align: middle;\n",
       "    }\n",
       "\n",
       "    .dataframe tbody tr th {\n",
       "        vertical-align: top;\n",
       "    }\n",
       "\n",
       "    .dataframe thead th {\n",
       "        text-align: right;\n",
       "    }\n",
       "</style>\n",
       "<table border=\"1\" class=\"dataframe\">\n",
       "  <thead>\n",
       "    <tr style=\"text-align: right;\">\n",
       "      <th></th>\n",
       "      <th>count</th>\n",
       "      <th>percentage</th>\n",
       "    </tr>\n",
       "  </thead>\n",
       "  <tbody>\n",
       "    <tr>\n",
       "      <th>4.0</th>\n",
       "      <td>32</td>\n",
       "      <td>35.164835</td>\n",
       "    </tr>\n",
       "    <tr>\n",
       "      <th>5.0</th>\n",
       "      <td>30</td>\n",
       "      <td>32.967033</td>\n",
       "    </tr>\n",
       "    <tr>\n",
       "      <th>3.0</th>\n",
       "      <td>20</td>\n",
       "      <td>21.978022</td>\n",
       "    </tr>\n",
       "    <tr>\n",
       "      <th>2.0</th>\n",
       "      <td>5</td>\n",
       "      <td>5.494505</td>\n",
       "    </tr>\n",
       "    <tr>\n",
       "      <th>1.0</th>\n",
       "      <td>4</td>\n",
       "      <td>4.395604</td>\n",
       "    </tr>\n",
       "  </tbody>\n",
       "</table>\n",
       "</div>"
      ],
      "text/plain": [
       "     count  percentage\n",
       "4.0     32   35.164835\n",
       "5.0     30   32.967033\n",
       "3.0     20   21.978022\n",
       "2.0      5    5.494505\n",
       "1.0      4    4.395604"
      ]
     },
     "execution_count": 51,
     "metadata": {},
     "output_type": "execute_result"
    }
   ],
   "source": [
    "col_name = 'מ-1 עד 5, כמה אתה מסכים עם המשפט הבא: \"ביצוע ראיון ראשוני באופן  דיגיטלי מקצר את תהליך הגיוס ובתור סטודנט הייתי רוצה שיהיה כזאת יכולת לפלטפורמת גיוס\"'\n",
    "col_data = df_reqs_1_ans[col_name]\n",
    "counts = col_data.value_counts()\n",
    "percentages = col_data.value_counts(normalize=True) * 100\n",
    "summary_df = pd.concat([counts, percentages], axis=1, keys=[\"Count\", \"Percentage\"])\n",
    "print(col_name)\n",
    "summary_df"
   ]
  },
  {
   "cell_type": "code",
   "execution_count": 54,
   "metadata": {},
   "outputs": [
    {
     "name": "stdout",
     "output_type": "stream",
     "text": [
      "כמה זמן היית מוכן להשקיע בביצוע ראיון דיגיטלי ראשוני בדקות?\n"
     ]
    },
    {
     "data": {
      "text/html": [
       "<div>\n",
       "<style scoped>\n",
       "    .dataframe tbody tr th:only-of-type {\n",
       "        vertical-align: middle;\n",
       "    }\n",
       "\n",
       "    .dataframe tbody tr th {\n",
       "        vertical-align: top;\n",
       "    }\n",
       "\n",
       "    .dataframe thead th {\n",
       "        text-align: right;\n",
       "    }\n",
       "</style>\n",
       "<table border=\"1\" class=\"dataframe\">\n",
       "  <thead>\n",
       "    <tr style=\"text-align: right;\">\n",
       "      <th></th>\n",
       "      <th>Count</th>\n",
       "      <th>Percentage</th>\n",
       "    </tr>\n",
       "  </thead>\n",
       "  <tbody>\n",
       "    <tr>\n",
       "      <th>15-30</th>\n",
       "      <td>36</td>\n",
       "      <td>39.130435</td>\n",
       "    </tr>\n",
       "    <tr>\n",
       "      <th>פחות מ- 15</th>\n",
       "      <td>34</td>\n",
       "      <td>36.956522</td>\n",
       "    </tr>\n",
       "    <tr>\n",
       "      <th>30-60</th>\n",
       "      <td>18</td>\n",
       "      <td>19.565217</td>\n",
       "    </tr>\n",
       "    <tr>\n",
       "      <th>60+</th>\n",
       "      <td>4</td>\n",
       "      <td>4.347826</td>\n",
       "    </tr>\n",
       "  </tbody>\n",
       "</table>\n",
       "</div>"
      ],
      "text/plain": [
       "            Count  Percentage\n",
       "15-30          36   39.130435\n",
       "פחות מ- 15     34   36.956522\n",
       "30-60          18   19.565217\n",
       "60+             4    4.347826"
      ]
     },
     "execution_count": 54,
     "metadata": {},
     "output_type": "execute_result"
    }
   ],
   "source": [
    "col_name = 'כמה זמן היית מוכן להשקיע בביצוע ראיון דיגיטלי ראשוני בדקות?'\n",
    "col_data = df_reqs_1_ans[col_name]\n",
    "counts = col_data.value_counts()\n",
    "percentages = col_data.value_counts(normalize=True) * 100\n",
    "summary_df = pd.concat([counts, percentages], axis=1, keys=[\"Count\", \"Percentage\"])\n",
    "print(col_name)\n",
    "summary_df"
   ]
  },
  {
   "cell_type": "code",
   "execution_count": null,
   "metadata": {},
   "outputs": [],
   "source": []
  }
 ],
 "metadata": {
  "kernelspec": {
   "display_name": "Python 3",
   "language": "python",
   "name": "python3"
  },
  "language_info": {
   "codemirror_mode": {
    "name": "ipython",
    "version": 3
   },
   "file_extension": ".py",
   "mimetype": "text/x-python",
   "name": "python",
   "nbconvert_exporter": "python",
   "pygments_lexer": "ipython3",
   "version": "3.8.5"
  }
 },
 "nbformat": 4,
 "nbformat_minor": 4
}
